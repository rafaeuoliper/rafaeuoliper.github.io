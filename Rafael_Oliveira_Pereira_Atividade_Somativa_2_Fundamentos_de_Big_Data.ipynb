{
  "nbformat": 4,
  "nbformat_minor": 0,
  "metadata": {
    "colab": {
      "provenance": [],
      "authorship_tag": "ABX9TyPEtO5qrnJ2J4TpaXj6xPvy",
      "include_colab_link": true
    },
    "kernelspec": {
      "name": "python3",
      "display_name": "Python 3"
    },
    "language_info": {
      "name": "python"
    }
  },
  "cells": [
    {
      "cell_type": "markdown",
      "metadata": {
        "id": "view-in-github",
        "colab_type": "text"
      },
      "source": [
        "<a href=\"https://colab.research.google.com/github/rafaeuoliper/rafaeuoliper.github.io/blob/main/Rafael_Oliveira_Pereira_Atividade_Somativa_2_Fundamentos_de_Big_Data.ipynb\" target=\"_parent\"><img src=\"https://colab.research.google.com/assets/colab-badge.svg\" alt=\"Open In Colab\"/></a>"
      ]
    },
    {
      "cell_type": "code",
      "execution_count": 2,
      "metadata": {
        "colab": {
          "base_uri": "https://localhost:8080/",
          "height": 110
        },
        "id": "4JN3lnx0CFwm",
        "outputId": "0c518672-18c6-48f4-c604-24691fe04bfa"
      },
      "outputs": [
        {
          "output_type": "error",
          "ename": "SyntaxError",
          "evalue": "invalid syntax (<ipython-input-2-2483c92e026c>, line 1)",
          "traceback": [
            "\u001b[0;36m  File \u001b[0;32m\"<ipython-input-2-2483c92e026c>\"\u001b[0;36m, line \u001b[0;32m1\u001b[0m\n\u001b[0;31m    <html lang=\"pt-br\">\u001b[0m\n\u001b[0m    ^\u001b[0m\n\u001b[0;31mSyntaxError\u001b[0m\u001b[0;31m:\u001b[0m invalid syntax\n"
          ]
        }
      ],
      "source": [
        "<html lang=\"pt-br\">\n",
        "<head>\n",
        "  <meta charset=\"UTF-8\">\n",
        "  <title>Atividade Somativa 2 - Fundamentos de Big Data</title>\n",
        "  <link rel=\"stylesheet\" href=\"https://cdn.jsdelivr.net/npm/bootstrap@4.6.1/dist/css/bootstrap.min.css\">\n",
        "  <link rel=\"stylesheet\" href=\"https://cdn.jsdelivr.net/npm/highlight.js/styles/default.css\">\n",
        "</head>\n",
        "<body>\n",
        "  <div class=\"container\">\n",
        "    <h1>Atividade Somativa 2 - Fundamentos de Big Data</h1>\n",
        "    <h2>Aluno: Rafael Oliveira Pereira</h2>\n",
        "    <h2>Curso: Tecnólogo em Gestão da Tecnologia da Informação</h2>\n",
        "    <h2>Disciplina: Fundamentos de Big Data</h2>\n",
        "\n",
        "    <h3>Introdução</h3>\n",
        "\n",
        "    <p>Esta atividade somativa tem como objetivo utilizar técnicas aprendidas na disciplina de Fundamentos de Big Data para analisar a base de dados `sentiment140`. A base contém tweets do Twitter e será utilizada para identificar as palavras mais frequentes, os usuários mais mencionados, os hashtags mais frequentes, as 10 palavras mais frequentes por dia da semana e as 10 hashtags mais frequentes para cada hora do dia.</p>\n",
        "\n",
        "    <h3>Desenvolvimento</h3>\n",
        "\n",
        "    <h4>Carregamento da base de dados no HDFS</h4>\n",
        "\n",
        "    <pre lang=\"python\">\n",
        "```python\n",
        "import os\n",
        "import pyspark.sql.functions as F\n",
        "from pyspark.sql import SparkSession\n",
        "\n",
        "spark = SparkSession.builder.appName(\"AtividadeSomativa2\").getOrCreate()\n",
        "\n",
        "caminho_arquivo = \"hdfs://localhost:9000/user/aluno/sentiment140.csv\"\n",
        "\n",
        "df_tweets = spark.read.csv(caminho_arquivo, header=True)"
      ]
    },
    {
      "cell_type": "code",
      "source": [
        "print(f\"Número de tweets: {df_tweets.count()}\")\n",
        "\n",
        "df_tweets.show(5)\n"
      ],
      "metadata": {
        "colab": {
          "base_uri": "https://localhost:8080/",
          "height": 182
        },
        "id": "HXAbC1UOC5yg",
        "outputId": "6a170683-9c69-450b-cbba-ba2fd2005a4f"
      },
      "execution_count": 3,
      "outputs": [
        {
          "output_type": "error",
          "ename": "NameError",
          "evalue": "name 'df_tweets' is not defined",
          "traceback": [
            "\u001b[0;31m---------------------------------------------------------------------------\u001b[0m",
            "\u001b[0;31mNameError\u001b[0m                                 Traceback (most recent call last)",
            "\u001b[0;32m<ipython-input-3-6d31159d80e9>\u001b[0m in \u001b[0;36m<cell line: 1>\u001b[0;34m()\u001b[0m\n\u001b[0;32m----> 1\u001b[0;31m \u001b[0mprint\u001b[0m\u001b[0;34m(\u001b[0m\u001b[0;34mf\"Número de tweets: {df_tweets.count()}\"\u001b[0m\u001b[0;34m)\u001b[0m\u001b[0;34m\u001b[0m\u001b[0;34m\u001b[0m\u001b[0m\n\u001b[0m\u001b[1;32m      2\u001b[0m \u001b[0;34m\u001b[0m\u001b[0m\n\u001b[1;32m      3\u001b[0m \u001b[0mdf_tweets\u001b[0m\u001b[0;34m.\u001b[0m\u001b[0mshow\u001b[0m\u001b[0;34m(\u001b[0m\u001b[0;36m5\u001b[0m\u001b[0;34m)\u001b[0m\u001b[0;34m\u001b[0m\u001b[0;34m\u001b[0m\u001b[0m\n",
            "\u001b[0;31mNameError\u001b[0m: name 'df_tweets' is not defined"
          ]
        }
      ]
    },
    {
      "cell_type": "code",
      "source": [
        "df_palavras = df_tweets.select(F.explode(F.split(F.col(\"texto_sem_pontuacao\"), \" \")).alias(\"palavra\"))\n",
        "\n",
        "df_frequencia_palavras = df_palavras.groupBy(\"palavra\").agg(F.count(\"palavra\").alias(\"frequencia\"))\n",
        "\n",
        "df_frequencia_palavras_ordenada = df_frequencia_palavras.orderBy(F.col(\"frequencia\").desc())"
      ],
      "metadata": {
        "colab": {
          "base_uri": "https://localhost:8080/",
          "height": 219
        },
        "id": "lWj4Y8QlC80i",
        "outputId": "2c7f72d0-bd48-43d1-e0f6-45dd707788d3"
      },
      "execution_count": 4,
      "outputs": [
        {
          "output_type": "error",
          "ename": "NameError",
          "evalue": "name 'df_tweets' is not defined",
          "traceback": [
            "\u001b[0;31m---------------------------------------------------------------------------\u001b[0m",
            "\u001b[0;31mNameError\u001b[0m                                 Traceback (most recent call last)",
            "\u001b[0;32m<ipython-input-4-3012f3e26ebd>\u001b[0m in \u001b[0;36m<cell line: 1>\u001b[0;34m()\u001b[0m\n\u001b[0;32m----> 1\u001b[0;31m \u001b[0mdf_palavras\u001b[0m \u001b[0;34m=\u001b[0m \u001b[0mdf_tweets\u001b[0m\u001b[0;34m.\u001b[0m\u001b[0mselect\u001b[0m\u001b[0;34m(\u001b[0m\u001b[0mF\u001b[0m\u001b[0;34m.\u001b[0m\u001b[0mexplode\u001b[0m\u001b[0;34m(\u001b[0m\u001b[0mF\u001b[0m\u001b[0;34m.\u001b[0m\u001b[0msplit\u001b[0m\u001b[0;34m(\u001b[0m\u001b[0mF\u001b[0m\u001b[0;34m.\u001b[0m\u001b[0mcol\u001b[0m\u001b[0;34m(\u001b[0m\u001b[0;34m\"texto_sem_pontuacao\"\u001b[0m\u001b[0;34m)\u001b[0m\u001b[0;34m,\u001b[0m \u001b[0;34m\" \"\u001b[0m\u001b[0;34m)\u001b[0m\u001b[0;34m)\u001b[0m\u001b[0;34m.\u001b[0m\u001b[0malias\u001b[0m\u001b[0;34m(\u001b[0m\u001b[0;34m\"palavra\"\u001b[0m\u001b[0;34m)\u001b[0m\u001b[0;34m)\u001b[0m\u001b[0;34m\u001b[0m\u001b[0;34m\u001b[0m\u001b[0m\n\u001b[0m\u001b[1;32m      2\u001b[0m \u001b[0;34m\u001b[0m\u001b[0m\n\u001b[1;32m      3\u001b[0m \u001b[0mdf_frequencia_palavras\u001b[0m \u001b[0;34m=\u001b[0m \u001b[0mdf_palavras\u001b[0m\u001b[0;34m.\u001b[0m\u001b[0mgroupBy\u001b[0m\u001b[0;34m(\u001b[0m\u001b[0;34m\"palavra\"\u001b[0m\u001b[0;34m)\u001b[0m\u001b[0;34m.\u001b[0m\u001b[0magg\u001b[0m\u001b[0;34m(\u001b[0m\u001b[0mF\u001b[0m\u001b[0;34m.\u001b[0m\u001b[0mcount\u001b[0m\u001b[0;34m(\u001b[0m\u001b[0;34m\"palavra\"\u001b[0m\u001b[0;34m)\u001b[0m\u001b[0;34m.\u001b[0m\u001b[0malias\u001b[0m\u001b[0;34m(\u001b[0m\u001b[0;34m\"frequencia\"\u001b[0m\u001b[0;34m)\u001b[0m\u001b[0;34m)\u001b[0m\u001b[0;34m\u001b[0m\u001b[0;34m\u001b[0m\u001b[0m\n\u001b[1;32m      4\u001b[0m \u001b[0;34m\u001b[0m\u001b[0m\n\u001b[1;32m      5\u001b[0m \u001b[0mdf_frequencia_palavras_ordenada\u001b[0m \u001b[0;34m=\u001b[0m \u001b[0mdf_frequencia_palavras\u001b[0m\u001b[0;34m.\u001b[0m\u001b[0morderBy\u001b[0m\u001b[0;34m(\u001b[0m\u001b[0mF\u001b[0m\u001b[0;34m.\u001b[0m\u001b[0mcol\u001b[0m\u001b[0;34m(\u001b[0m\u001b[0;34m\"frequencia\"\u001b[0m\u001b[0;34m)\u001b[0m\u001b[0;34m.\u001b[0m\u001b[0mdesc\u001b[0m\u001b[0;34m(\u001b[0m\u001b[0;34m)\u001b[0m\u001b[0;34m)\u001b[0m\u001b[0;34m\u001b[0m\u001b[0;34m\u001b[0m\u001b[0m\n",
            "\u001b[0;31mNameError\u001b[0m: name 'df_tweets' is not defined"
          ]
        }
      ]
    }
  ]
}